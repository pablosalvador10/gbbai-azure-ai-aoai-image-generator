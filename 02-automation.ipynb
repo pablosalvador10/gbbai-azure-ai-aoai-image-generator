{
 "cells": [
  {
   "cell_type": "markdown",
   "metadata": {},
   "source": [
    "#TODO\n",
    "\n",
    "+ AUTOGEN multimodality \n",
    "+ Feedback loop \n"
   ]
  }
 ],
 "metadata": {
  "language_info": {
   "name": "python"
  }
 },
 "nbformat": 4,
 "nbformat_minor": 2
}
